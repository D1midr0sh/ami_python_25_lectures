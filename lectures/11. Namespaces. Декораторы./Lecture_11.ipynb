{
 "cells": [
  {
   "cell_type": "markdown",
   "id": "efb8b1ed",
   "metadata": {},
   "source": [
    "# Python-1, Лекция 11\n",
    "\n",
    "Лектор: Хайбулин Даниэль\n",
    "\n",
    "Подготовил материал: Лущ Иван"
   ]
  },
  {
   "cell_type": "markdown",
   "id": "748778dc",
   "metadata": {},
   "source": [
    "Итак, сегодня мы поговорим про простанства имен и декораторы"
   ]
  },
  {
   "cell_type": "markdown",
   "id": "b6c58639",
   "metadata": {},
   "source": [
    "### [Namespaces](https://docs.python.org/3/tutorial/classes.html#python-scopes-and-namespaces)"
   ]
  },
  {
   "cell_type": "markdown",
   "id": "e47965f2",
   "metadata": {},
   "source": [
    "Предыдущее занятие о функциях и классах дало интуитивное понимание локальных и глобальных переменных. Сегодня формализуем понятие \"пространство имен\" и механизмы разрешения имен в Python."
   ]
  },
  {
   "cell_type": "markdown",
   "id": "93518976",
   "metadata": {},
   "source": [
    "Под **пространством имен** (`namespace`) будем понимать отображение имя -> объект.\n",
    "\n",
    "**Область видимости** (`scope`) — это текстовая область программы на Python, в пределах которой пространство имён доступно напрямую. \"Доступно напрямую\" означает, что обращение к имени пытается найти это имя в данном пространстве имён.\n"
   ]
  },
  {
   "cell_type": "code",
   "execution_count": null,
   "id": "d1b55636",
   "metadata": {},
   "outputs": [],
   "source": [
    "# global namespace\n",
    "# scope\n",
    "x = 'модуль'\n",
    "\n",
    "def f():\n",
    "    x = 'локальная'\n",
    "    # достали x из local namespace\n",
    "    print('в f:', x)\n",
    "    # scope здесь\n",
    "\n",
    "# f создает новый local namespace при вызове\n",
    "f()"
   ]
  },
  {
   "cell_type": "markdown",
   "id": "a8cb41c4",
   "metadata": {},
   "source": [
    "Блоки `if`/`for`/`while`/`with` новых областей видимости не создают; функция (и `lambda`) при вызове — создает; `comprehension`/генераторные выражения в `Python 3` создают свой маленький локальный `scope` для переменной цикла."
   ]
  },
  {
   "cell_type": "markdown",
   "id": "28537082",
   "metadata": {},
   "source": [
    "Что будет?"
   ]
  },
  {
   "cell_type": "code",
   "execution_count": null,
   "id": "14515953",
   "metadata": {},
   "outputs": [],
   "source": [
    "funcs = [lambda: i for i in range(3)]\n",
    "print([f() for f in funcs])"
   ]
  },
  {
   "cell_type": "markdown",
   "id": "3bc23487",
   "metadata": {},
   "source": [
    "lambda захватывает не значение i, а саму переменную i (ячейку) из enclosing‑scope comprehension."
   ]
  },
  {
   "cell_type": "markdown",
   "id": "bf289cd0",
   "metadata": {},
   "source": [
    "<div style=\"\n",
    "    background-color: #FFBA00;\n",
    "    padding: 15px;\n",
    "    border-left: 5px solid #ffcc00;\n",
    "    text-align: center;\n",
    "    display: flex;\n",
    "    justify-content: center;\n",
    "    align-items: center;\n",
    "    min-height: 15px;\n",
    "\">\n",
    "    <span style=\"color: white; font-weight: bold;\">\n",
    "        Лучше не использовать lambda, обсуждали в конце лекции \"Ссылки. Изменяемость.\"\n",
    "    </span>\n",
    "</div>"
   ]
  },
  {
   "cell_type": "markdown",
   "id": "39339567",
   "metadata": {},
   "source": [
    "Python ищет имя по порядку `LEGB`: сначала в текущей локальной области (`L`, `Local`), потом во внешних функциях (`E`, `Enclosing`), потом в модуле (`G`, `Global`), потом во встроенных именах (`B`, `Builtins`)."
   ]
  },
  {
   "cell_type": "markdown",
   "id": "ddc0301f",
   "metadata": {},
   "source": [
    "![](legb.png)"
   ]
  },
  {
   "cell_type": "markdown",
   "id": "e745975c",
   "metadata": {},
   "source": [
    "\n",
    "- `Global`: содержит `funcs`\n",
    "- `Enclosing` (охватывающее для `lambda`): каждое `list‑comprehension` в Python исполняется в своём локальном `scope`; переменная `i` — локальная именно для этого скрытого \"функционального\" `scope comprehension`.\n",
    "- `Local` (у `lambda`): появляется только при вызове `lambda`; внутри тела `lambda` нет собственного `i`, поэтому поиск идёт во внешнее (`enclosing`) пространство.\n",
    "- `Builtins`: здесь находятся `print` и `range`"
   ]
  },
  {
   "cell_type": "markdown",
   "id": "ec55ca90",
   "metadata": {},
   "source": [
    "Фикс через аргумент по умолчанию:"
   ]
  },
  {
   "cell_type": "code",
   "execution_count": null,
   "id": "e1b8b4fe",
   "metadata": {},
   "outputs": [],
   "source": [
    "funcs = [lambda i=i: i for i in range(3)]\n",
    "print([f() for f in funcs])"
   ]
  },
  {
   "cell_type": "markdown",
   "id": "2032ee2a",
   "metadata": {},
   "source": [
    "Мы начали с необычного примера, чтобы интуитивно увидеть: имя ищется по цепочке областей видимости, а замыкания захватывают не значение, а ячейку имени. Теперь разберём формально каждое звено этой цепочки."
   ]
  },
  {
   "cell_type": "markdown",
   "id": "909edd58",
   "metadata": {},
   "source": [
    "`builtins namespace`:\n",
    "\n",
    "- Набор \"встроенных\" имён: `print`, `range`, `len`, `int`, `str`, `Exception`, `True`/`False`/`None`, ...\n",
    "- Cоздаётся при инициализации интерпретатора; один на интерпретатор.\n",
    "- Как используется: последнее звено в `LEGB`; имена доступны без импорта."
   ]
  },
  {
   "cell_type": "code",
   "execution_count": null,
   "id": "a9801a94",
   "metadata": {},
   "outputs": [],
   "source": [
    "print(dir(__builtins__))"
   ]
  },
  {
   "cell_type": "code",
   "execution_count": null,
   "id": "88872edd",
   "metadata": {},
   "outputs": [],
   "source": [
    "import builtins\n",
    "builtins.print(dir(builtins))"
   ]
  },
  {
   "cell_type": "markdown",
   "id": "b0c06ea1",
   "metadata": {},
   "source": [
    "`global namespace`:\n",
    "- Что это: словарь `globals()` конкретного модуля (включая `__name__`, `__builtins__`, ваши функции/классы/переменные).\n",
    "- Когда создаётся: при выполнении модуля (импорт или запуск).\n",
    "- Время жизни: пока живёт модуль (обычно до завершения интерпретатора).\n"
   ]
  },
  {
   "cell_type": "code",
   "execution_count": null,
   "id": "bba39070",
   "metadata": {},
   "outputs": [],
   "source": [
    "globals()"
   ]
  },
  {
   "cell_type": "markdown",
   "id": "2ab0b5b0",
   "metadata": {},
   "source": [
    "`enclosing namespace`:\n",
    "- Что это: пространство имён внешней функции (и вложенных уровней), доступное для внутренних функций.\n",
    "- Когда создаётся: при вызове внешней функции (или при выполнении `comprehension`).\n",
    "- Время жизни: пока есть активные ссылки.\n"
   ]
  }
 ],
 "metadata": {
  "kernelspec": {
   "display_name": ".venv",
   "language": "python",
   "name": "python3"
  },
  "language_info": {
   "codemirror_mode": {
    "name": "ipython",
    "version": 3
   },
   "file_extension": ".py",
   "mimetype": "text/x-python",
   "name": "python",
   "nbconvert_exporter": "python",
   "pygments_lexer": "ipython3",
   "version": "3.13.5"
  }
 },
 "nbformat": 4,
 "nbformat_minor": 5
}
