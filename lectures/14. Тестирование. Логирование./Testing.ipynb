{
 "cells": [
  {
   "cell_type": "markdown",
   "id": "91370f33",
   "metadata": {},
   "source": [
    "# Python-1, Лекция 14\n",
    "\n",
    "Лектор: Хайбулин Даниэль\n",
    "\n",
    "Подготовил материал: Хайбулин Даниэль"
   ]
  },
  {
   "cell_type": "markdown",
   "id": "7469be1b",
   "metadata": {},
   "source": [
    "## Сравнение тестовых фреймворков Python"
   ]
  },
  {
   "cell_type": "markdown",
   "id": "f224ca8c",
   "metadata": {},
   "source": [
    "| Фреймворк  | Плюсы                                                                 | Минусы                                                                 |\n",
    "|------------|-----------------------------------------------------------------------|------------------------------------------------------------------------|\n",
    "| **unittest** | • Входит в стандартную библиотеку<br>• JUnit-стиль (знаком многим)<br>• Поддержка фикстур (setUp/tearDown) | • Много boilerplate-кода<br>• Менее читаемые ассерты<br>• Синтаксис сложнее, чем у современных аналогов |\n",
    "| **pytest**   | • Минимальный boilerplate<br>• Читаемые ассерты (`assert x == y`)<br>• Параметризация тестов<br>• Плагины и богатая экосистема<br>• Поддержка unittest-тестов | • Требует установки (не в стандартной библиотеке)<br>• Синтаксис фикстур может быть сложным для новичков |\n",
    "| **doctest**  | • Встроен в стандартную библиотеку<br>• Тесты как документация<br>• Нет лишнего кода | • Не подходит для сложных тестов<br>• Сложность отладки<br>• Может нарушать читаемость документации |\n",
    "| **nose2**    | • Совместимость с unittest<br>• Упрощенный запуск тестов<br>• Плагины | • Развитие замедлилось после появления pytest<br>• Меньше возможностей, чем у pytest |\n",
    "\n",
    "**Рекомендации**:\n",
    "- **pytest** — лучший выбор для большинства проектов"
   ]
  },
  {
   "cell_type": "markdown",
   "id": "24eff575",
   "metadata": {},
   "source": [
    "## Именование тестов"
   ]
  },
  {
   "cell_type": "markdown",
   "id": "35dcd5ad",
   "metadata": {},
   "source": [
    "Как вообще утилита **pytest** находит тесты среди прочих файлов?\n",
    "\n",
    "1. Находит все файлы, которые оканчиваются на *.py\n",
    "2. Оставляет только файлы вида `test_*.py`, `*_test.py`\n",
    "3. Внутри файлов:\n",
    "    * находит все функции с префиксом `test`;\n",
    "    * находит все методы с префиксом `test` внутри класса с прекфиксом `Test`.\n",
    "\n",
    "[конвенция](https://docs.pytest.org/en/stable/explanation/goodpractices.html#test-discovery)"
   ]
  },
  {
   "cell_type": "markdown",
   "id": "f83b9913",
   "metadata": {},
   "source": [
    "## TDD"
   ]
  },
  {
   "cell_type": "markdown",
   "id": "da81fb4f",
   "metadata": {},
   "source": [
    "**TDD** - Test Driven Development: сперва пишем тест для необходимой логики, затем пишем код для этой логики, основываясь на нашем тесте."
   ]
  },
  {
   "cell_type": "code",
   "execution_count": null,
   "id": "9a04fb3d",
   "metadata": {},
   "outputs": [],
   "source": [
    "%pip install pytest ipytest"
   ]
  },
  {
   "cell_type": "code",
   "execution_count": null,
   "id": "8bf39551",
   "metadata": {},
   "outputs": [],
   "source": [
    "import pytest\n",
    "import ipytest\n",
    "\n",
    "ipytest.autoconfig()"
   ]
  },
  {
   "cell_type": "code",
   "execution_count": null,
   "id": "ee5049c7",
   "metadata": {},
   "outputs": [],
   "source": [
    "%%ipytest\n",
    "\n",
    "\n",
    "def test_good_math():\n",
    "    assert 2 + 2 == 4\n",
    "\n",
    "\n",
    "def test_bad_math():\n",
    "    assert 2 + 2 == 5"
   ]
  }
 ],
 "metadata": {
  "kernelspec": {
   "display_name": ".venv",
   "language": "python",
   "name": "python3"
  },
  "language_info": {
   "codemirror_mode": {
    "name": "ipython",
    "version": 3
   },
   "file_extension": ".py",
   "mimetype": "text/x-python",
   "name": "python",
   "nbconvert_exporter": "python",
   "pygments_lexer": "ipython3",
   "version": "3.13.3"
  }
 },
 "nbformat": 4,
 "nbformat_minor": 5
}
