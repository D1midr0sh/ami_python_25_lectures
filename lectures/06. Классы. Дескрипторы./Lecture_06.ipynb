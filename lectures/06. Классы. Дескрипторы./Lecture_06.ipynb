{
 "cells": [
  {
   "cell_type": "markdown",
   "id": "64b7f404",
   "metadata": {},
   "source": [
    "# Python-1, Лекция 6\n",
    "\n",
    "Лектор: Хайбулин Даниэль\n",
    "\n",
    "Подготовил материал: Хайбулин Даниэль"
   ]
  },
  {
   "cell_type": "markdown",
   "id": "617b8488",
   "metadata": {},
   "source": [
    "Сегодня мы продолжим говорить о классах."
   ]
  },
  {
   "cell_type": "markdown",
   "id": "271fbfef",
   "metadata": {},
   "source": [
    "## Методы классов"
   ]
  },
  {
   "cell_type": "markdown",
   "id": "4bef05ac",
   "metadata": {},
   "source": [
    "## Переопределение dunder методов"
   ]
  },
  {
   "cell_type": "markdown",
   "id": "80e26ea6",
   "metadata": {},
   "source": [
    "## Дескрипторы"
   ]
  },
  {
   "cell_type": "markdown",
   "id": "b060ff7a",
   "metadata": {},
   "source": [
    "## Контроль доступа"
   ]
  }
 ],
 "metadata": {
  "language_info": {
   "name": "python"
  }
 },
 "nbformat": 4,
 "nbformat_minor": 5
}
