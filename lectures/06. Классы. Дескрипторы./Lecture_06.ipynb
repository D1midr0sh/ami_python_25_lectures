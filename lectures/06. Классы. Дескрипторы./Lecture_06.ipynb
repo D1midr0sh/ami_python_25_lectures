{
 "cells": [
  {
   "cell_type": "markdown",
   "id": "64b7f404",
   "metadata": {},
   "source": [
    "# Python-1, Лекция 6\n",
    "\n",
    "Лектор: Хайбулин Даниэль\n",
    "\n",
    "Подготовил материал: Хайбулин Даниэль"
   ]
  },
  {
   "cell_type": "markdown",
   "id": "617b8488",
   "metadata": {},
   "source": [
    "Сегодня мы продолжим говорить о классах."
   ]
  },
  {
   "cell_type": "markdown",
   "id": "271fbfef",
   "metadata": {},
   "source": [
    "## Методы классов"
   ]
  },
  {
   "cell_type": "markdown",
   "id": "eb60f8f9",
   "metadata": {},
   "source": [
    "В классах можно делать \"специальные пометки\" (на самом деле это декораторы, о них поговорим позже) над методом: **статичные методы** и **методы класса**."
   ]
  },
  {
   "cell_type": "markdown",
   "id": "5c38c400",
   "metadata": {},
   "source": [
    "### Static method"
   ]
  },
  {
   "cell_type": "markdown",
   "id": "a1426d6c",
   "metadata": {},
   "source": [
    "<div style=\"\n",
    "    background-color: #44944A;\n",
    "    padding: 15px;\n",
    "    border-radius: 10px;\n",
    "    border: 1px solid #fbfbfbff;\n",
    "    text-align: center;\n",
    "    display: flex;\n",
    "    justify-content: center;\n",
    "    align-items: center;\n",
    "    min-height: 15px;\n",
    "\">\n",
    "    <span style=\"color: white; font-weight: bold;\">\n",
    "        Статичный метод - метод ни к чему не привязанный.\n",
    "    </span>\n",
    "</div>"
   ]
  },
  {
   "cell_type": "code",
   "execution_count": 18,
   "id": "3ac08221",
   "metadata": {},
   "outputs": [],
   "source": [
    "class SampleClass:\n",
    "    @staticmethod\n",
    "    def example() -> None:\n",
    "        print(...)"
   ]
  },
  {
   "cell_type": "code",
   "execution_count": 11,
   "id": "0c9bfd25",
   "metadata": {},
   "outputs": [],
   "source": [
    "assert \"example\" not in SampleClass().__dict__\n",
    "assert \"example\" in SampleClass.__dict__"
   ]
  },
  {
   "cell_type": "markdown",
   "id": "921190ab",
   "metadata": {},
   "source": [
    "Заметьте, что статичный метод принадлежит классу, но не принадлежит его инстансу. Главное отличие от ранее изученных обычных методов - это отсутствие аргумента **self**, то есть инстанса класса.\n",
    "\n",
    "Зачем вообще нужны такие методы? В основном для реализации специфичных конструкторов, отличающихся от основного конструктора - **\\_\\_init\\_\\_**. Это называется **фабрика** и, возможно, кто-то разберет это позже на семинарах 12ой лекции когда мы будем говорить об ООП, а пока знакомимся что такое вот есть."
   ]
  },
  {
   "cell_type": "code",
   "execution_count": null,
   "id": "d8201d0a",
   "metadata": {},
   "outputs": [],
   "source": [
    "from typing import Self\n",
    "\n",
    "\n",
    "class Date:\n",
    "    def __init__(self, day: int, month: int, year: int) -> Self:\n",
    "        self.day = day\n",
    "        self.month = month\n",
    "        self.year = year\n",
    "\n",
    "    def __str__(self) -> str:\n",
    "        return f\"{self.day:02d}.{self.month:02d}.{self.year}\"\n",
    "\n",
    "    @staticmethod\n",
    "    def from_iso_format(iso_string: str) -> Self:\n",
    "        year, month, day = map(int, iso_string.split(\"-\"))\n",
    "        return Date(day, month, year)\n",
    "\n",
    "    @staticmethod\n",
    "    def from_american_format(us_string: str) -> Self:\n",
    "        month, day, year = map(int, us_string.split(\"/\"))\n",
    "        return Date(day, month, year)"
   ]
  },
  {
   "cell_type": "markdown",
   "id": "0c534eb4",
   "metadata": {},
   "source": [
    "Теперь можем конструировать инстансы класса даты тремя разными способами: переопределенным **\\_\\_init\\_\\_** и двумя статичными методами. Это добавляет нам гибкости в способах создания инстанса класса."
   ]
  },
  {
   "cell_type": "code",
   "execution_count": 24,
   "id": "60e14cef",
   "metadata": {},
   "outputs": [
    {
     "name": "stdout",
     "output_type": "stream",
     "text": [
      "25.12.2023\n",
      "25.12.2023\n"
     ]
    }
   ],
   "source": [
    "date1 = Date.from_iso_format(\"2023-12-25\")\n",
    "print(date1)\n",
    "\n",
    "date2 = Date.from_american_format(\"12/25/2023\")\n",
    "print(date2)\n",
    "\n",
    "assert isinstance(date1, Date)\n",
    "assert isinstance(date2, Date)"
   ]
  },
  {
   "cell_type": "markdown",
   "id": "22c6ad7b",
   "metadata": {},
   "source": [
    "### Class method"
   ]
  },
  {
   "cell_type": "markdown",
   "id": "ff5cb36c",
   "metadata": {},
   "source": [
    "<div style=\"\n",
    "    background-color: #44944A;\n",
    "    padding: 15px;\n",
    "    border-radius: 10px;\n",
    "    border: 1px solid #fbfbfbff;\n",
    "    text-align: center;\n",
    "    display: flex;\n",
    "    justify-content: center;\n",
    "    align-items: center;\n",
    "    min-height: 15px;\n",
    "\">\n",
    "    <span style=\"color: white; font-weight: bold;\">\n",
    "        Метод класса - метод привязанный к самому классу.\n",
    "    </span>\n",
    "</div>"
   ]
  },
  {
   "cell_type": "markdown",
   "id": "67453adf",
   "metadata": {},
   "source": [
    "## Наследование"
   ]
  },
  {
   "cell_type": "markdown",
   "id": "ea314911",
   "metadata": {},
   "source": [
    "### object - прародитель"
   ]
  },
  {
   "cell_type": "markdown",
   "id": "0cf3f6b8",
   "metadata": {},
   "source": [
    "<div style=\"\n",
    "    background-color: #44944A;\n",
    "    padding: 15px;\n",
    "    border-radius: 10px;\n",
    "    border: 1px solid #fbfbfbff;\n",
    "    text-align: center;\n",
    "    display: flex;\n",
    "    justify-content: center;\n",
    "    align-items: center;\n",
    "    min-height: 15px;\n",
    "\">\n",
    "    <span style=\"color: white; font-weight: bold;\">\n",
    "        <strong>object</strong> - метакласс, от которого наследуются все остальные объекты в питоне.\n",
    "    </span>\n",
    "</div>"
   ]
  },
  {
   "cell_type": "markdown",
   "id": "2ea7bf3b",
   "metadata": {},
   "source": [
    "**Наследование** - это как в генетике, родительский класс передает свои методы, поля, атрибуты (гены) своим детям. Ребенок может наследоваться от множества родителей, при этом порядок наследования методов определяется при помощи алгоритма Method Resolution Order (mro)."
   ]
  },
  {
   "cell_type": "code",
   "execution_count": 34,
   "id": "3717fa51",
   "metadata": {},
   "outputs": [
    {
     "data": {
      "text/plain": [
       "(object, [object], {object: None})"
      ]
     },
     "execution_count": 34,
     "metadata": {},
     "output_type": "execute_result"
    }
   ],
   "source": [
    "object, object.mro(), {object: None}"
   ]
  },
  {
   "cell_type": "markdown",
   "id": "4d01e41e",
   "metadata": {},
   "source": [
    "Всякий класс наследуется от объекта, отсюда и наличие по дефолту очень многих методов даже у пустых классов."
   ]
  },
  {
   "cell_type": "code",
   "execution_count": 35,
   "id": "c9fdadd3",
   "metadata": {},
   "outputs": [
    {
     "data": {
      "text/plain": [
       "['__class__',\n",
       " '__delattr__',\n",
       " '__dir__',\n",
       " '__doc__',\n",
       " '__eq__',\n",
       " '__format__',\n",
       " '__ge__',\n",
       " '__getattribute__',\n",
       " '__getstate__',\n",
       " '__gt__',\n",
       " '__hash__',\n",
       " '__init__',\n",
       " '__init_subclass__',\n",
       " '__le__',\n",
       " '__lt__',\n",
       " '__ne__',\n",
       " '__new__',\n",
       " '__reduce__',\n",
       " '__reduce_ex__',\n",
       " '__repr__',\n",
       " '__setattr__',\n",
       " '__sizeof__',\n",
       " '__str__',\n",
       " '__subclasshook__']"
      ]
     },
     "execution_count": 35,
     "metadata": {},
     "output_type": "execute_result"
    }
   ],
   "source": [
    "dir(object)"
   ]
  },
  {
   "cell_type": "code",
   "execution_count": 36,
   "id": "652574ba",
   "metadata": {},
   "outputs": [
    {
     "data": {
      "text/plain": [
       "([list, object], [int, object], [dict, object])"
      ]
     },
     "execution_count": 36,
     "metadata": {},
     "output_type": "execute_result"
    }
   ],
   "source": [
    "list.mro(), int.mro(), dict.mro()"
   ]
  },
  {
   "cell_type": "code",
   "execution_count": null,
   "id": "de9cdaf3",
   "metadata": {},
   "outputs": [],
   "source": [
    "class SampleClass: ..."
   ]
  },
  {
   "cell_type": "code",
   "execution_count": 40,
   "id": "1dbac630",
   "metadata": {},
   "outputs": [
    {
     "data": {
      "text/plain": [
       "([__main__.SampleClass, object],\n",
       " ['__class__',\n",
       "  '__delattr__',\n",
       "  '__dict__',\n",
       "  '__dir__',\n",
       "  '__doc__',\n",
       "  '__eq__',\n",
       "  '__firstlineno__',\n",
       "  '__format__',\n",
       "  '__ge__',\n",
       "  '__getattribute__',\n",
       "  '__getstate__',\n",
       "  '__gt__',\n",
       "  '__hash__',\n",
       "  '__init__',\n",
       "  '__init_subclass__',\n",
       "  '__le__',\n",
       "  '__lt__',\n",
       "  '__module__',\n",
       "  '__ne__',\n",
       "  '__new__',\n",
       "  '__reduce__',\n",
       "  '__reduce_ex__',\n",
       "  '__repr__',\n",
       "  '__setattr__',\n",
       "  '__sizeof__',\n",
       "  '__static_attributes__',\n",
       "  '__str__',\n",
       "  '__subclasshook__',\n",
       "  '__weakref__'])"
      ]
     },
     "execution_count": 40,
     "metadata": {},
     "output_type": "execute_result"
    }
   ],
   "source": [
    "SampleClass.mro(), dir(SampleClass)"
   ]
  },
  {
   "cell_type": "markdown",
   "id": "705c8de7",
   "metadata": {},
   "source": [
    "### Наследование методов"
   ]
  },
  {
   "cell_type": "markdown",
   "id": "f905fd1b",
   "metadata": {},
   "source": [
    "Выше мы могли заметить, что от родительского класса object базовыми типами наследуется множество dunder методов. Давайте рассмотрим что вообще такое наследование методов:"
   ]
  },
  {
   "cell_type": "code",
   "execution_count": 44,
   "id": "6c159000",
   "metadata": {},
   "outputs": [],
   "source": [
    "class SampleClass:\n",
    "    def __init__(self, name: str) -> Self:\n",
    "        self.name = name\n",
    "\n",
    "        print(f\"{self.name} родился!\")\n",
    "\n",
    "\n",
    "class SampleClassChild(SampleClass):\n",
    "    pass"
   ]
  },
  {
   "cell_type": "code",
   "execution_count": 45,
   "id": "d89e169e",
   "metadata": {},
   "outputs": [
    {
     "name": "stdout",
     "output_type": "stream",
     "text": [
      "Ребенок родился!\n"
     ]
    },
    {
     "data": {
      "text/plain": [
       "<__main__.SampleClassChild at 0x108a538c0>"
      ]
     },
     "execution_count": 45,
     "metadata": {},
     "output_type": "execute_result"
    }
   ],
   "source": [
    "SampleClassChild(name=\"Ребенок\")"
   ]
  },
  {
   "cell_type": "markdown",
   "id": "5bb1b751",
   "metadata": {},
   "source": [
    "У класса **SampleClassChild** не определен dunder метод **\\_\\_init\\_\\_**, однако мы получили сообщение, которое определено у класса **SampleClass**. Это и есть наследование - если у текущего класса нет метода, то мы идем искать метод в его родительских классах и вызываем его!"
   ]
  },
  {
   "cell_type": "markdown",
   "id": "75051ee6",
   "metadata": {},
   "source": [
    "### Переопределение методов"
   ]
  },
  {
   "cell_type": "markdown",
   "id": "20dc87f2",
   "metadata": {},
   "source": [
    "Вообще, возникает логичный вопрос: а зачем нам наследование? Действительно, некоторые языки вполне себе обходятся без наследования. Но мы не можем размышлять бинарным подходом - хорошо или плохо. Наследование - это такой же инструмент, как и многие другие инструменты, которые предлагает нам язык программирования. Но стоит хорошенько подумать прежде чем использовать наследование.\n",
    "\n",
    "Чаще всего наследование помогает нам определить некий общий интерфейс, а в наследуемых от него классах предлагать различную реализацию интерфейса. Эта концепция будет встречаться вам часто, так как она действительно имеет смысл. О ней мы отдельно поговорим на другой лекции.\n",
    "\n",
    "А сейчас давайте разберемся как описывать интерфейс в родительском классе и переопределять в наследуемых классах: \n"
   ]
  },
  {
   "cell_type": "code",
   "execution_count": 46,
   "id": "85c22a34",
   "metadata": {},
   "outputs": [],
   "source": [
    "class SampleClass:\n",
    "    def __init__(self, name: str) -> Self:\n",
    "        self.name = name\n",
    "\n",
    "        print(f\"{self.name} родился!\")\n",
    "\n",
    "\n",
    "class SampleClassChild(SampleClass):\n",
    "    def __init__(self, name: str) -> Self:\n",
    "        self.name = name\n",
    "\n",
    "        print(f\"{self.name} вылупился!\")"
   ]
  },
  {
   "cell_type": "code",
   "execution_count": 47,
   "id": "2ac6100c",
   "metadata": {},
   "outputs": [
    {
     "name": "stdout",
     "output_type": "stream",
     "text": [
      "Птенец вылупился!\n"
     ]
    },
    {
     "data": {
      "text/plain": [
       "<__main__.SampleClassChild at 0x108a53a10>"
      ]
     },
     "execution_count": 47,
     "metadata": {},
     "output_type": "execute_result"
    }
   ],
   "source": [
    "SampleClassChild(\"Птенец\")"
   ]
  },
  {
   "cell_type": "markdown",
   "id": "be7dd59c",
   "metadata": {},
   "source": [
    "Итак, мы переопределили dunder метод **\\_\\_init\\_\\_** и теперь вызывается метод младшего класса."
   ]
  },
  {
   "cell_type": "markdown",
   "id": "4d7e3c80",
   "metadata": {},
   "source": [
    "Помимо этого, мы можем дополнять метод родительского класса в детских классах:"
   ]
  },
  {
   "cell_type": "code",
   "execution_count": null,
   "id": "cc9e570f",
   "metadata": {},
   "outputs": [],
   "source": [
    "class SampleClass:\n",
    "    def __init__(self, name: str) -> Self:\n",
    "        self.name = name\n",
    "\n",
    "        print(f\"{self.name} родился!\")\n",
    "\n",
    "\n",
    "class SampleClassChild(SampleClass):\n",
    "    def __init__(self, name: str) -> Self:\n",
    "        SampleClass.__init__(self=self, name=name)  # Вызов метода родительского класса\n",
    "\n",
    "        print(f\"{name} родился еще раз!\")"
   ]
  },
  {
   "cell_type": "code",
   "execution_count": 51,
   "id": "22fc710a",
   "metadata": {},
   "outputs": [
    {
     "name": "stdout",
     "output_type": "stream",
     "text": [
      "Птенец родился!\n",
      "Птенец родился еще раз!\n"
     ]
    },
    {
     "data": {
      "text/plain": [
       "<__main__.SampleClassChild at 0x10e3242f0>"
      ]
     },
     "execution_count": 51,
     "metadata": {},
     "output_type": "execute_result"
    }
   ],
   "source": [
    "SampleClassChild(\"Птенец\")"
   ]
  },
  {
   "cell_type": "markdown",
   "id": "b36dbf9d",
   "metadata": {},
   "source": [
    "На семинарах предлагается подробнее посмотреть на diamond problem и mro, чтобы была возможность поиграться с наследованием. Также рекомендуется рассмотреть **super**."
   ]
  },
  {
   "cell_type": "markdown",
   "id": "bd3daf81",
   "metadata": {},
   "source": [
    "### slots"
   ]
  },
  {
   "cell_type": "markdown",
   "id": "991c666b",
   "metadata": {},
   "source": [
    "Есть такой механизм как **\\_\\_slots\\_\\_** - это кортеж, который заменяет словарь нашего класса. Кортеж занимает меньше места чем словарь, поэтому это разумная оптимизация когда мы создаем очень много инстансов класса с небольшим количеством полей:"
   ]
  },
  {
   "cell_type": "code",
   "execution_count": 131,
   "id": "798a338f",
   "metadata": {},
   "outputs": [],
   "source": [
    "class Point:\n",
    "    __slots__ = (\"x\", \"y\")"
   ]
  },
  {
   "cell_type": "code",
   "execution_count": 134,
   "id": "c30921dc",
   "metadata": {},
   "outputs": [
    {
     "ename": "AttributeError",
     "evalue": "'Point' object has no attribute '__dict__'",
     "output_type": "error",
     "traceback": [
      "\u001b[31m---------------------------------------------------------------------------\u001b[39m",
      "\u001b[31mAttributeError\u001b[39m                            Traceback (most recent call last)",
      "\u001b[36mCell\u001b[39m\u001b[36m \u001b[39m\u001b[32mIn[134]\u001b[39m\u001b[32m, line 1\u001b[39m\n\u001b[32m----> \u001b[39m\u001b[32m1\u001b[39m \u001b[43mPoint\u001b[49m\u001b[43m(\u001b[49m\u001b[43m)\u001b[49m\u001b[43m.\u001b[49m\u001b[34;43m__dict__\u001b[39;49m  \u001b[38;5;66;03m# Мы не создаем словарь у инстанса\u001b[39;00m\n",
      "\u001b[31mAttributeError\u001b[39m: 'Point' object has no attribute '__dict__'"
     ]
    }
   ],
   "source": [
    "Point().__dict__  # Мы не создаем словарь у инстанса"
   ]
  },
  {
   "cell_type": "code",
   "execution_count": 133,
   "id": "96d27906",
   "metadata": {},
   "outputs": [
    {
     "data": {
      "text/plain": [
       "('x', 'y')"
      ]
     },
     "execution_count": 133,
     "metadata": {},
     "output_type": "execute_result"
    }
   ],
   "source": [
    "Point().__slots__  # При этом создаем кортеж слотов"
   ]
  },
  {
   "cell_type": "code",
   "execution_count": 135,
   "id": "39eb68a5",
   "metadata": {},
   "outputs": [
    {
     "name": "stdout",
     "output_type": "stream",
     "text": [
      "Collecting memory_profiler\n",
      "  Downloading memory_profiler-0.61.0-py3-none-any.whl.metadata (20 kB)\n",
      "Requirement already satisfied: psutil in /Users/dkhaybulin/personal/ami_python_25_lectures/.venv/lib/python3.13/site-packages (from memory_profiler) (7.0.0)\n",
      "Downloading memory_profiler-0.61.0-py3-none-any.whl (31 kB)\n",
      "Installing collected packages: memory_profiler\n",
      "Successfully installed memory_profiler-0.61.0\n",
      "Note: you may need to restart the kernel to use updated packages.\n"
     ]
    }
   ],
   "source": [
    "%pip install memory_profiler"
   ]
  },
  {
   "cell_type": "markdown",
   "id": "e8f73f62",
   "metadata": {},
   "source": [
    "Ниже приведу доказательство того, что слоты занимают меньше памяти нежели словари:"
   ]
  },
  {
   "cell_type": "code",
   "execution_count": 2,
   "id": "ed230935",
   "metadata": {},
   "outputs": [
    {
     "name": "stdout",
     "output_type": "stream",
     "text": [
      "Память для 100000 обычных объектов: 14.50 MB\n",
      "Память для 100000 объектов со slots: 6.10 MB\n",
      "Экономия памяти: 8.39 MB\n",
      "Процент экономии: 57.89%\n",
      "=== Создание обычных объектов ===\n",
      "ERROR: Could not find file /var/folders/ws/5kmlxlc942z45n9yrbhyb9pm0000gn/T/ipykernel_25312/2302274312.py\n",
      "=== Создание объектов со slots ===\n",
      "ERROR: Could not find file /var/folders/ws/5kmlxlc942z45n9yrbhyb9pm0000gn/T/ipykernel_25312/2302274312.py\n",
      "\n",
      "Размер одного обычного объекта: 152 байт\n",
      "Размер одного объекта со slots: 64 байт\n"
     ]
    }
   ],
   "source": [
    "import sys\n",
    "from memory_profiler import profile\n",
    "\n",
    "\n",
    "class RegularUser:\n",
    "    def __init__(self, user_id, name, email, age):\n",
    "        self.user_id = user_id\n",
    "        self.name = name\n",
    "        self.email = email\n",
    "        self.age = age\n",
    "\n",
    "\n",
    "class SlotsUser:\n",
    "    __slots__ = (\"user_id\", \"name\", \"email\", \"age\")\n",
    "\n",
    "    def __init__(self, user_id, name, email, age):\n",
    "        self.user_id = user_id\n",
    "        self.name = name\n",
    "        self.email = email\n",
    "        self.age = age\n",
    "\n",
    "\n",
    "def measure_memory_usage(user_class, num_instances):\n",
    "    instances = [\n",
    "        user_class(i, f\"User{i}\", f\"user{i}@example.com\", 20 + i % 30)\n",
    "        for i in range(num_instances)\n",
    "    ]\n",
    "\n",
    "    total_size = sum(sys.getsizeof(instance) for instance in instances)\n",
    "\n",
    "    if hasattr(instances[0], \"__dict__\"):\n",
    "        dict_size = sum(sys.getsizeof(instance.__dict__) for instance in instances)\n",
    "        total_size += dict_size\n",
    "\n",
    "    return total_size\n",
    "\n",
    "\n",
    "num_objects = 100000\n",
    "\n",
    "regular_memory = measure_memory_usage(RegularUser, num_objects)\n",
    "\n",
    "slots_memory = measure_memory_usage(SlotsUser, num_objects)\n",
    "\n",
    "print(\n",
    "    f\"Память для {num_objects} обычных объектов: {regular_memory / 1024 / 1024:.2f} MB\"\n",
    ")\n",
    "print(\n",
    "    f\"Память для {num_objects} объектов со slots: {slots_memory / 1024 / 1024:.2f} MB\"\n",
    ")\n",
    "print(f\"Экономия памяти: {(regular_memory - slots_memory) / 1024 / 1024:.2f} MB\")\n",
    "print(f\"Процент экономии: {(1 - slots_memory / regular_memory) * 100:.2f}%\")\n",
    "\n",
    "\n",
    "@profile\n",
    "def create_regular_users():\n",
    "    return [\n",
    "        RegularUser(i, f\"User{i}\", f\"user{i}@example.com\", 20 + i % 30)\n",
    "        for i in range(num_objects)\n",
    "    ]\n",
    "\n",
    "\n",
    "@profile\n",
    "def create_slots_users():\n",
    "    return [\n",
    "        SlotsUser(i, f\"User{i}\", f\"user{i}@example.com\", 20 + i % 30)\n",
    "        for i in range(num_objects)\n",
    "    ]\n",
    "\n",
    "\n",
    "if __name__ == \"__main__\":\n",
    "    print(\"=== Создание обычных объектов ===\")\n",
    "    regular_users = create_regular_users()\n",
    "\n",
    "    print(\"=== Создание объектов со slots ===\")\n",
    "    slots_users = create_slots_users()\n",
    "\n",
    "    print(\n",
    "        f\"\\nРазмер одного обычного объекта: {sys.getsizeof(RegularUser(1, 'Test', 'test@example.com', 25)) + sys.getsizeof(RegularUser(1, 'Test', 'test@example.com', 25).__dict__)} байт\"\n",
    "    )\n",
    "    print(\n",
    "        f\"Размер одного объекта со slots: {sys.getsizeof(SlotsUser(1, 'Test', 'test@example.com', 25))} байт\"\n",
    "    )"
   ]
  },
  {
   "cell_type": "markdown",
   "id": "4bef05ac",
   "metadata": {},
   "source": [
    "## Переопределение dunder методов"
   ]
  },
  {
   "cell_type": "markdown",
   "id": "28a3c84f",
   "metadata": {},
   "source": [
    "Подходим к **магии** питона - определение **dunder** или **магических** методов. Определение таких методов позволяет нам встраивать наш класс в уже существующий функционал языка и пользоваться им на полную."
   ]
  },
  {
   "cell_type": "markdown",
   "id": "d87aeebe",
   "metadata": {},
   "source": [
    "Тут мы просто посмотрим на примере на базовые магические методы, на следующих лекциях будем рассматривать более серьезные магические методы и чего с ними можно добиться."
   ]
  },
  {
   "cell_type": "code",
   "execution_count": 89,
   "id": "efd6929d",
   "metadata": {},
   "outputs": [],
   "source": [
    "from typing import Self\n",
    "\n",
    "\n",
    "class A:\n",
    "    def __init__(self, name: str) -> Self:\n",
    "        self.name = name\n",
    "\n",
    "    def __repr__(self) -> str:  #  Этот метод мы используем лишь для дебага\n",
    "        return f\"Object id: {id(self)}, object name: {self.name}\"\n",
    "\n",
    "    def __str__(self) -> str:  #  Этот метод вызывается когда мы делаем print\n",
    "        return f\"Объект класса {self.__class__} по имени {self.name}\"\n"
   ]
  },
  {
   "cell_type": "code",
   "execution_count": 91,
   "id": "78da4c2d",
   "metadata": {},
   "outputs": [
    {
     "data": {
      "text/plain": [
       "Object id: 4445919888, object name: abc"
      ]
     },
     "execution_count": 91,
     "metadata": {},
     "output_type": "execute_result"
    }
   ],
   "source": [
    "A(name=\"abc\")"
   ]
  },
  {
   "cell_type": "code",
   "execution_count": 92,
   "id": "bcc96e46",
   "metadata": {},
   "outputs": [
    {
     "name": "stdout",
     "output_type": "stream",
     "text": [
      "Объект класса <class '__main__.A'> по имени abc\n"
     ]
    }
   ],
   "source": [
    "print(A(name=\"abc\"))"
   ]
  },
  {
   "cell_type": "markdown",
   "id": "919a8eda",
   "metadata": {},
   "source": [
    "Теперь переопределим арифметику, чтобы научить пользовательские классы в математику."
   ]
  },
  {
   "cell_type": "code",
   "execution_count": 111,
   "id": "1faede5b",
   "metadata": {},
   "outputs": [],
   "source": [
    "from typing import Union, Any\n",
    "\n",
    "\n",
    "class A:\n",
    "    def __init__(self, x: int) -> Self:\n",
    "        self.x = x\n",
    "\n",
    "    def __add__(self, other: Self) -> Self:\n",
    "        return A(self.x + other.x)\n",
    "\n",
    "    def __iadd__(self, other: Self) -> Self:\n",
    "        self.x += other.x\n",
    "        return self\n",
    "\n",
    "    def __mul__(self, other: Union[int, Any]) -> Self:\n",
    "        print(\"A:mul\")\n",
    "        if type(other) is int:\n",
    "            return A(self.x * other)\n",
    "        elif hasattr(other, \"x\"):\n",
    "            return A(self.x * other.x)\n",
    "        else:\n",
    "            print(\"Не могу умножить!\")\n",
    "\n",
    "    def __rmul__(self, other: Union[int, Any]) -> Self:\n",
    "        print(\"A:rmul\")\n",
    "        if type(other) is int:\n",
    "            return A(self.x * other)\n",
    "        elif hasattr(other, \"x\"):\n",
    "            return A(self.x * other.x)\n",
    "        else:\n",
    "            print(\"Не могу умножить!\")\n",
    "\n",
    "    def __str__(self) -> str:\n",
    "        return f\"A({self.x})\"\n",
    "\n",
    "\n",
    "class B:\n",
    "    def __init__(self, x: int) -> Self:\n",
    "        self.x = x\n",
    "\n",
    "    def __str__(self) -> str:\n",
    "        return f\"B({self.x})\"\n"
   ]
  },
  {
   "cell_type": "code",
   "execution_count": 112,
   "id": "9cc16326",
   "metadata": {},
   "outputs": [
    {
     "data": {
      "text/plain": [
       "14"
      ]
     },
     "execution_count": 112,
     "metadata": {},
     "output_type": "execute_result"
    }
   ],
   "source": [
    "a = A(6)\n",
    "b = A(4)\n",
    "id_A = id(a)\n",
    "\n",
    "a += b\n",
    "assert id(a) == id_A\n",
    "\n",
    "a = a + b\n",
    "assert id(a) != id_A\n",
    "\n",
    "a.x"
   ]
  },
  {
   "cell_type": "markdown",
   "id": "9e2b2f8d",
   "metadata": {},
   "source": [
    "<div style=\"\n",
    "    background-color: #8B0000;\n",
    "    padding: 15px;\n",
    "    border: 2px dashed #ba0606;\n",
    "    border-radius: 5px;\n",
    "    text-align: center;\n",
    "    display: flex;\n",
    "    justify-content: center;\n",
    "    align-items: center;\n",
    "    min-height: 20px;\n",
    "\">\n",
    "<span style=\"color: white; font-weight: bold;\">\n",
    "        dunder методы с приставкой <strong>i</strong> возвращают self.\n",
    "    </span>\n",
    "</div>"
   ]
  },
  {
   "cell_type": "code",
   "execution_count": 113,
   "id": "88a03591",
   "metadata": {},
   "outputs": [
    {
     "name": "stdout",
     "output_type": "stream",
     "text": [
      "A:mul\n",
      "a * 3 = A(18)\n",
      "A:rmul\n",
      "3 * a = A(18)\n",
      "A:mul\n",
      "a * a = A(36)\n",
      "A:mul\n",
      "a * b = A(12)\n",
      "A:rmul\n",
      "b * a = A(12)\n"
     ]
    }
   ],
   "source": [
    "a = A(6)\n",
    "b = B(2)\n",
    "print(f\"a * 3 = {a * 3}\")\n",
    "print(f\"3 * a = {3 * a}\")\n",
    "print(f\"a * a = {a * a}\")\n",
    "print(f\"a * b = {a * b}\")\n",
    "print(f\"b * a = {b * a}\")"
   ]
  },
  {
   "cell_type": "markdown",
   "id": "515a7cc9",
   "metadata": {},
   "source": [
    "Видим, что тут независимо того того правое это умножение (**\\_\\_rmul\\_\\_**) или левое (**\\_\\_mul\\_\\_**) - так или иначе возвращается всегда объект класса A. Чтобы это исправить нужно переопределить умножение и у класса B."
   ]
  },
  {
   "cell_type": "code",
   "execution_count": 117,
   "id": "a6da5ddf",
   "metadata": {},
   "outputs": [],
   "source": [
    "from typing import Union, Any\n",
    "\n",
    "\n",
    "class A:\n",
    "    def __init__(self, x: int) -> Self:\n",
    "        self.x = x\n",
    "\n",
    "    def __mul__(self, other: Union[int, Any]) -> Self:\n",
    "        print(\"A:mul\")\n",
    "        if type(other) is int:\n",
    "            return A(self.x * other)\n",
    "        elif hasattr(other, \"x\"):\n",
    "            return A(self.x * other.x)\n",
    "        else:\n",
    "            print(\"Не могу умножить!\")\n",
    "\n",
    "    def __rmul__(self, other: Union[int, Any]) -> Self:\n",
    "        print(\"A:rmul\")\n",
    "        if type(other) is int:\n",
    "            return A(self.x * other)\n",
    "        elif hasattr(other, \"x\"):\n",
    "            return A(self.x * other.x)\n",
    "        else:\n",
    "            print(\"Не могу умножить!\")\n",
    "\n",
    "    def __str__(self) -> str:\n",
    "        return f\"A({self.x})\"\n",
    "\n",
    "\n",
    "class B:\n",
    "    def __init__(self, x: int) -> Self:\n",
    "        self.x = x\n",
    "\n",
    "    def __mul__(self, other: Union[int, Any]) -> Self:\n",
    "        print(\"B:mul\")\n",
    "        if type(other) is int:\n",
    "            return B(self.x * other)\n",
    "        elif hasattr(other, \"x\"):\n",
    "            return B(self.x * other.x)\n",
    "        else:\n",
    "            print(\"Не могу умножить!\")\n",
    "\n",
    "    def __rmul__(self, other: Union[int, Any]) -> Self:\n",
    "        print(\"B:rmul\")\n",
    "        if type(other) is int:\n",
    "            return B(self.x * other)\n",
    "        elif hasattr(other, \"x\"):\n",
    "            return B(self.x * other.x)\n",
    "        else:\n",
    "            print(\"Не могу умножить!\")\n",
    "\n",
    "    def __str__(self) -> str:\n",
    "        return f\"B({self.x})\"\n"
   ]
  },
  {
   "cell_type": "code",
   "execution_count": 118,
   "id": "6bfbfa8a",
   "metadata": {},
   "outputs": [
    {
     "name": "stdout",
     "output_type": "stream",
     "text": [
      "A:mul\n",
      "a * 3 = A(18)\n",
      "A:rmul\n",
      "3 * a = A(18)\n",
      "A:mul\n",
      "a * a = A(36)\n",
      "A:mul\n",
      "a * b = A(12)\n",
      "B:mul\n",
      "b * a = B(12)\n"
     ]
    }
   ],
   "source": [
    "a = A(6)\n",
    "b = B(2)\n",
    "print(f\"a * 3 = {a * 3}\")\n",
    "print(f\"3 * a = {3 * a}\")\n",
    "print(f\"a * a = {a * a}\")\n",
    "print(f\"a * b = {a * b}\")\n",
    "print(f\"b * a = {b * a}\")"
   ]
  },
  {
   "cell_type": "markdown",
   "id": "dd127370",
   "metadata": {},
   "source": [
    "А вот теперь видим, что в одно из умножений у нас создался новый инстанс класса B."
   ]
  },
  {
   "cell_type": "markdown",
   "id": "7cf892b5",
   "metadata": {},
   "source": [
    "Давайте теперь создадим **Callable** класс: реализуем магический метод **\\_\\_call\\_\\_**:"
   ]
  },
  {
   "cell_type": "code",
   "execution_count": null,
   "id": "d41877ec",
   "metadata": {},
   "outputs": [
    {
     "data": {
      "text/plain": [
       "64"
      ]
     },
     "execution_count": 120,
     "metadata": {},
     "output_type": "execute_result"
    }
   ],
   "source": [
    "class Power:\n",
    "    def __init__(self, p: float):\n",
    "        self.p = p\n",
    "\n",
    "    def __call__(self, a: float) -> float:\n",
    "        return a**self.p\n",
    "\n",
    "\n",
    "power = Power(3)\n",
    "power(4)"
   ]
  },
  {
   "cell_type": "markdown",
   "id": "e395343a",
   "metadata": {},
   "source": [
    "На семинаре предлагается рассмотреть **\\_\\_len\\_\\_**, магические методы сравнимости класса и побольше поиграться с хешируемостью объекта."
   ]
  },
  {
   "cell_type": "markdown",
   "id": "627bf643",
   "metadata": {},
   "source": [
    "## Property"
   ]
  },
  {
   "cell_type": "code",
   "execution_count": 4,
   "id": "a3a491cb",
   "metadata": {},
   "outputs": [
    {
     "name": "stdout",
     "output_type": "stream",
     "text": [
      "Help on class property in module builtins:\n",
      "\n",
      "class property(object)\n",
      " |  property(fget=None, fset=None, fdel=None, doc=None)\n",
      " |\n",
      " |  Property attribute.\n",
      " |\n",
      " |    fget\n",
      " |      function to be used for getting an attribute value\n",
      " |    fset\n",
      " |      function to be used for setting an attribute value\n",
      " |    fdel\n",
      " |      function to be used for del'ing an attribute\n",
      " |    doc\n",
      " |      docstring\n",
      " |\n",
      " |  Typical use is to define a managed attribute x:\n",
      " |\n",
      " |  class C(object):\n",
      " |      def getx(self): return self._x\n",
      " |      def setx(self, value): self._x = value\n",
      " |      def delx(self): del self._x\n",
      " |      x = property(getx, setx, delx, \"I'm the 'x' property.\")\n",
      " |\n",
      " |  Decorators make defining new properties or modifying existing ones easy:\n",
      " |\n",
      " |  class C(object):\n",
      " |      @property\n",
      " |      def x(self):\n",
      " |          \"I am the 'x' property.\"\n",
      " |          return self._x\n",
      " |      @x.setter\n",
      " |      def x(self, value):\n",
      " |          self._x = value\n",
      " |      @x.deleter\n",
      " |      def x(self):\n",
      " |          del self._x\n",
      " |\n",
      " |  Methods defined here:\n",
      " |\n",
      " |  __delete__(self, instance, /)\n",
      " |      Delete an attribute of instance.\n",
      " |\n",
      " |  __get__(self, instance, owner=None, /)\n",
      " |      Return an attribute of instance, which is of type owner.\n",
      " |\n",
      " |  __getattribute__(self, name, /)\n",
      " |      Return getattr(self, name).\n",
      " |\n",
      " |  __init__(self, /, *args, **kwargs)\n",
      " |      Initialize self.  See help(type(self)) for accurate signature.\n",
      " |\n",
      " |  __set__(self, instance, value, /)\n",
      " |      Set an attribute of instance to value.\n",
      " |\n",
      " |  __set_name__(self, owner, name, /)\n",
      " |      Method to set name of a property.\n",
      " |\n",
      " |  deleter(self, object, /)\n",
      " |      Descriptor to obtain a copy of the property with a different deleter.\n",
      " |\n",
      " |  getter(self, object, /)\n",
      " |      Descriptor to obtain a copy of the property with a different getter.\n",
      " |\n",
      " |  setter(self, object, /)\n",
      " |      Descriptor to obtain a copy of the property with a different setter.\n",
      " |\n",
      " |  ----------------------------------------------------------------------\n",
      " |  Static methods defined here:\n",
      " |\n",
      " |  __new__(*args, **kwargs)\n",
      " |      Create and return a new object.  See help(type) for accurate signature.\n",
      " |\n",
      " |  ----------------------------------------------------------------------\n",
      " |  Data descriptors defined here:\n",
      " |\n",
      " |  __isabstractmethod__\n",
      " |\n",
      " |  fdel\n",
      " |\n",
      " |  fget\n",
      " |\n",
      " |  fset\n",
      "\n"
     ]
    }
   ],
   "source": [
    "help(property)"
   ]
  },
  {
   "cell_type": "markdown",
   "id": "8aee7a3c",
   "metadata": {},
   "source": [
    "<div style=\"\n",
    "    background-color: #44944A;\n",
    "    padding: 15px;\n",
    "    border-radius: 10px;\n",
    "    border: 1px solid #fbfbfbff;\n",
    "    text-align: center;\n",
    "    display: flex;\n",
    "    justify-content: center;\n",
    "    align-items: center;\n",
    "    min-height: 15px;\n",
    "\">\n",
    "    <span style=\"color: white; font-weight: bold;\">\n",
    "        <strong>property</strong> позволяет нам управлять атрибутом класса.\n",
    "    </span>\n",
    "</div>"
   ]
  },
  {
   "cell_type": "code",
   "execution_count": null,
   "id": "d68375ac",
   "metadata": {},
   "outputs": [],
   "source": [
    "from typing import Self\n",
    "\n",
    "\n",
    "class LineItem:\n",
    "    def __init__(self, description: str, weight: float, price: int) -> Self:\n",
    "        self.description = description\n",
    "        self.weight = weight  # Теперь тут вызовется метод set_weight\n",
    "        self.price = price\n",
    "\n",
    "    def subtotal(self) -> float:\n",
    "        return self.weight * self.price\n",
    "\n",
    "    def get_weight(self) -> float:\n",
    "        print(\"Получаем вес!\")\n",
    "        return self.__weight\n",
    "\n",
    "    def set_weight(self, value) -> None:\n",
    "        print(\"Устанавливаем вес!\")\n",
    "        if value > 0:\n",
    "            self.__weight = value\n",
    "        else:\n",
    "            raise ValueError(\"value must be > 0\")\n",
    "\n",
    "    weight = property(fget=get_weight, fset=set_weight)"
   ]
  },
  {
   "cell_type": "markdown",
   "id": "3c496707",
   "metadata": {},
   "source": [
    "На самом деле чаще property используют как декоратор, но об этом мы поговорим на лекции про декораторы."
   ]
  },
  {
   "cell_type": "code",
   "execution_count": 11,
   "id": "a6f30719",
   "metadata": {},
   "outputs": [
    {
     "name": "stdout",
     "output_type": "stream",
     "text": [
      "Устанавливаем вес!\n"
     ]
    }
   ],
   "source": [
    "item = LineItem(description=\"Чемодан\", weight=3.4, price=300)"
   ]
  },
  {
   "cell_type": "markdown",
   "id": "b060ff7a",
   "metadata": {},
   "source": [
    "## Контроль доступа"
   ]
  },
  {
   "cell_type": "markdown",
   "id": "3628e15a",
   "metadata": {},
   "source": [
    "<div style=\"\n",
    "    background-color: #44944A;\n",
    "    padding: 15px;\n",
    "    border-radius: 10px;\n",
    "    border: 1px solid #fbfbfbff;\n",
    "    text-align: center;\n",
    "    display: flex;\n",
    "    justify-content: center;\n",
    "    align-items: center;\n",
    "    min-height: 15px;\n",
    "\">\n",
    "    <span style=\"color: white; font-weight: bold;\">\n",
    "        По дефолту все атрибуты публичны.\n",
    "    </span>\n",
    "</div>"
   ]
  },
  {
   "cell_type": "markdown",
   "id": "927d7b36",
   "metadata": {},
   "source": [
    "Но вот если я хочу, чтобы никто не мог получить доступ к какому-то атрибуту моего класса, что тогад нужно сделать?\n",
    "\n",
    "Для этого есть **private** и **protected** поля!"
   ]
  },
  {
   "cell_type": "markdown",
   "id": "06f01800",
   "metadata": {},
   "source": [
    "### Private"
   ]
  },
  {
   "cell_type": "markdown",
   "id": "79ebebd9",
   "metadata": {},
   "source": [
    "В питоне нет как таковой приватности у атрибутов, но люди часто используют _ или __, чтобы указать на приватность атрибута. Давайте разберемся что это и зачем."
   ]
  },
  {
   "cell_type": "markdown",
   "id": "8a3f523f",
   "metadata": {},
   "source": [
    "<div style=\"\n",
    "    background-color: #8B0000;\n",
    "    padding: 15px;\n",
    "    border: 2px dashed #ba0606;\n",
    "    border-radius: 5px;\n",
    "    text-align: center;\n",
    "    display: flex;\n",
    "    justify-content: center;\n",
    "    align-items: center;\n",
    "    min-height: 20px;\n",
    "\">\n",
    "<span style=\"color: white; font-weight: bold;\">\n",
    "        __ не обеспечивает приватность атрибута!\n",
    "    </span>\n",
    "</div>"
   ]
  },
  {
   "cell_type": "markdown",
   "id": "1532aafe",
   "metadata": {},
   "source": [
    "Сперва развеем миф о том, что двойное подчеркивание у атрибута обеспечивает его приватность."
   ]
  },
  {
   "cell_type": "code",
   "execution_count": 13,
   "id": "05e47831",
   "metadata": {},
   "outputs": [],
   "source": [
    "class SampleClass:\n",
    "    __slots__ = \"__name\"\n",
    "\n",
    "    def __init__(self, name: str) -> Self:\n",
    "        self.__name = name\n",
    "\n",
    "        print(f\"{self.__name} родился!\")"
   ]
  },
  {
   "cell_type": "code",
   "execution_count": 22,
   "id": "d0759c4b",
   "metadata": {},
   "outputs": [
    {
     "data": {
      "text/plain": [
       "mappingproxy({'__module__': '__main__',\n",
       "              '__firstlineno__': 1,\n",
       "              '__slots__': '__name',\n",
       "              '__init__': <function __main__.SampleClass.__init__(self, name: str) -> Self>,\n",
       "              '__static_attributes__': ('__name',),\n",
       "              '_SampleClass__name': <member '_SampleClass__name' of 'SampleClass' objects>,\n",
       "              '__doc__': None})"
      ]
     },
     "execution_count": 22,
     "metadata": {},
     "output_type": "execute_result"
    }
   ],
   "source": [
    "SampleClass.__dict__"
   ]
  },
  {
   "cell_type": "code",
   "execution_count": 15,
   "id": "caf583a2",
   "metadata": {},
   "outputs": [
    {
     "name": "stdout",
     "output_type": "stream",
     "text": [
      "abc родился!\n"
     ]
    },
    {
     "ename": "AttributeError",
     "evalue": "'SampleClass' object has no attribute '__name'",
     "output_type": "error",
     "traceback": [
      "\u001b[31m---------------------------------------------------------------------------\u001b[39m",
      "\u001b[31mAttributeError\u001b[39m                            Traceback (most recent call last)",
      "\u001b[36mCell\u001b[39m\u001b[36m \u001b[39m\u001b[32mIn[15]\u001b[39m\u001b[32m, line 1\u001b[39m\n\u001b[32m----> \u001b[39m\u001b[32m1\u001b[39m \u001b[43mSampleClass\u001b[49m\u001b[43m(\u001b[49m\u001b[43mname\u001b[49m\u001b[43m=\u001b[49m\u001b[33;43m\"\u001b[39;49m\u001b[33;43mabc\u001b[39;49m\u001b[33;43m\"\u001b[39;49m\u001b[43m)\u001b[49m\u001b[43m.\u001b[49m\u001b[43m__name\u001b[49m\n",
      "\u001b[31mAttributeError\u001b[39m: 'SampleClass' object has no attribute '__name'"
     ]
    }
   ],
   "source": [
    "SampleClass(name=\"abc\").__name"
   ]
  },
  {
   "cell_type": "code",
   "execution_count": 16,
   "id": "fb513919",
   "metadata": {},
   "outputs": [
    {
     "ename": "AttributeError",
     "evalue": "type object 'SampleClass' has no attribute '__name'",
     "output_type": "error",
     "traceback": [
      "\u001b[31m---------------------------------------------------------------------------\u001b[39m",
      "\u001b[31mAttributeError\u001b[39m                            Traceback (most recent call last)",
      "\u001b[36mCell\u001b[39m\u001b[36m \u001b[39m\u001b[32mIn[16]\u001b[39m\u001b[32m, line 1\u001b[39m\n\u001b[32m----> \u001b[39m\u001b[32m1\u001b[39m \u001b[43mSampleClass\u001b[49m\u001b[43m.\u001b[49m\u001b[43m__name\u001b[49m\n",
      "\u001b[31mAttributeError\u001b[39m: type object 'SampleClass' has no attribute '__name'"
     ]
    }
   ],
   "source": [
    "SampleClass.__name"
   ]
  },
  {
   "cell_type": "markdown",
   "id": "e0b37057",
   "metadata": {},
   "source": [
    "Эх, никак не можем получить доступ. Неужели мы обеспечили приватнось? Конечно же нет:"
   ]
  },
  {
   "cell_type": "code",
   "execution_count": 26,
   "id": "5cf94dd5",
   "metadata": {},
   "outputs": [
    {
     "name": "stdout",
     "output_type": "stream",
     "text": [
      "abc родился!\n"
     ]
    },
    {
     "data": {
      "text/plain": [
       "'abc'"
      ]
     },
     "execution_count": 26,
     "metadata": {},
     "output_type": "execute_result"
    }
   ],
   "source": [
    "SampleClass(name=\"abc\")._SampleClass__name"
   ]
  },
  {
   "cell_type": "markdown",
   "id": "9864572e",
   "metadata": {},
   "source": [
    "А вот и достали нашу скрытую переменную. \"Приватные\" переменные можно вытащить из класса или инстанса класса посредством следующего нейминга: _ + \\_\\_class\\_\\_ + private_attribute_name"
   ]
  },
  {
   "cell_type": "markdown",
   "id": "2649548e",
   "metadata": {},
   "source": [
    "<div style=\"\n",
    "    background-color: #8B0000;\n",
    "    padding: 15px;\n",
    "    border: 2px dashed #ba0606;\n",
    "    border-radius: 5px;\n",
    "    text-align: center;\n",
    "    display: flex;\n",
    "    justify-content: center;\n",
    "    align-items: center;\n",
    "    min-height: 20px;\n",
    "\">\n",
    "<span style=\"color: white; font-weight: bold;\">\n",
    "        Никогда не используйте двойное подчеркивание в нейминге атрибутов.\n",
    "    </span>\n",
    "</div>"
   ]
  },
  {
   "cell_type": "markdown",
   "id": "14f579fe",
   "metadata": {},
   "source": [
    "### Protected"
   ]
  },
  {
   "cell_type": "markdown",
   "id": "eb4ed881",
   "metadata": {},
   "source": [
    "Вместо двойного подчеркивание разработчики договорились использовать одно подчеркивание - общая конвенция не трогать атрибуты, имя которых начинается с подчеркивания. Так и обеспечивается якобы приватность атрибутов в питоне."
   ]
  },
  {
   "cell_type": "code",
   "execution_count": 27,
   "id": "644d0fc2",
   "metadata": {},
   "outputs": [],
   "source": [
    "class SampleClass:\n",
    "    __slots__ = \"_name\"\n",
    "\n",
    "    def __init__(self, name: str) -> Self:\n",
    "        self._name = name\n",
    "\n",
    "        print(f\"{self._name} родился!\")"
   ]
  },
  {
   "cell_type": "code",
   "execution_count": 28,
   "id": "5d51ada7",
   "metadata": {},
   "outputs": [
    {
     "name": "stdout",
     "output_type": "stream",
     "text": [
      "abc родился!\n"
     ]
    },
    {
     "data": {
      "text/plain": [
       "'abc'"
      ]
     },
     "execution_count": 28,
     "metadata": {},
     "output_type": "execute_result"
    }
   ],
   "source": [
    "SampleClass(name=\"abc\")._name"
   ]
  },
  {
   "cell_type": "markdown",
   "id": "60edabb7",
   "metadata": {},
   "source": [
    "## Dataclass"
   ]
  },
  {
   "cell_type": "markdown",
   "id": "afccf8e2",
   "metadata": {},
   "source": [
    "<div style=\"\n",
    "    background-color: #44944A;\n",
    "    padding: 15px;\n",
    "    border-radius: 10px;\n",
    "    border: 1px solid #fbfbfbff;\n",
    "    text-align: center;\n",
    "    display: flex;\n",
    "    justify-content: center;\n",
    "    align-items: center;\n",
    "    min-height: 15px;\n",
    "\">\n",
    "    <span style=\"color: white; font-weight: bold;\">\n",
    "        dataclass - декоратор, модифицирующий поведение класса.\n",
    "    </span>\n",
    "</div>"
   ]
  },
  {
   "cell_type": "markdown",
   "id": "59e79663",
   "metadata": {},
   "source": [
    "Иногда нам нужен класс, который по сути представляет из себя структуру: в некоторых языках программирования есть отдельная сущность структура, которая представляет из себя что-то меньшее нежели класс, чаще всего это некое объединение множества полей в одно логическое имя."
   ]
  },
  {
   "cell_type": "markdown",
   "id": "8a9cf8b6",
   "metadata": {},
   "source": [
    "Например, мы хотим написать класс, который просто хранит информацию о тесте:"
   ]
  },
  {
   "cell_type": "code",
   "execution_count": 32,
   "id": "77407f73",
   "metadata": {},
   "outputs": [
    {
     "data": {
      "text/plain": [
       "Case(name='test_name', given=2, expected=10)"
      ]
     },
     "execution_count": 32,
     "metadata": {},
     "output_type": "execute_result"
    }
   ],
   "source": [
    "from dataclasses import dataclass\n",
    "\n",
    "\n",
    "@dataclass\n",
    "class Case:\n",
    "    name: str\n",
    "    given: int\n",
    "    expected: int\n",
    "\n",
    "\n",
    "class CaseClass:\n",
    "    def __init__(self, name: str, given: int, expected: int) -> Self:\n",
    "        self.name = name\n",
    "        self.given = given\n",
    "        self.expected = expected\n",
    "\n",
    "    def __eq__(self, other: Self) -> bool:\n",
    "        return (self.name, self.given, self.expected) == (\n",
    "            other.name,\n",
    "            other.given,\n",
    "            other.expected,\n",
    "        )\n",
    "\n",
    "    def __repr__(self) -> str:\n",
    "        return f\"Case(name='{self.name}', given='{self.given}', expected='{self.expected}')\"\n",
    "\n",
    "\n",
    "c = Case(\"test_name\", 2, 10)\n",
    "c"
   ]
  },
  {
   "cell_type": "code",
   "execution_count": null,
   "id": "9fcc691a",
   "metadata": {},
   "outputs": [
    {
     "data": {
      "text/plain": [
       "{'__annotations__',\n",
       " '__dataclass_fields__',\n",
       " '__dataclass_params__',\n",
       " '__match_args__',\n",
       " '__replace__'}"
      ]
     },
     "execution_count": 34,
     "metadata": {},
     "output_type": "execute_result"
    }
   ],
   "source": [
    "set(dir(Case)) - set(dir(CaseClass))"
   ]
  },
  {
   "cell_type": "markdown",
   "id": "87ebaad3",
   "metadata": {},
   "source": [
    "Данный декоратор добавил нашему классу некоторые атрибуты."
   ]
  },
  {
   "cell_type": "markdown",
   "id": "2e0f6ade",
   "metadata": {},
   "source": [
    "Можно конфигурировать датаклассы:"
   ]
  },
  {
   "cell_type": "code",
   "execution_count": 38,
   "id": "47d94a98",
   "metadata": {},
   "outputs": [
    {
     "name": "stdout",
     "output_type": "stream",
     "text": [
      "Help on function dataclass in module dataclasses:\n",
      "\n",
      "dataclass(\n",
      "    cls=None,\n",
      "    /,\n",
      "    *,\n",
      "    init=True,\n",
      "    repr=True,\n",
      "    eq=True,\n",
      "    order=False,\n",
      "    unsafe_hash=False,\n",
      "    frozen=False,\n",
      "    match_args=True,\n",
      "    kw_only=False,\n",
      "    slots=False,\n",
      "    weakref_slot=False\n",
      ")\n",
      "    Add dunder methods based on the fields defined in the class.\n",
      "\n",
      "    Examines PEP 526 __annotations__ to determine fields.\n",
      "\n",
      "    If init is true, an __init__() method is added to the class. If repr\n",
      "    is true, a __repr__() method is added. If order is true, rich\n",
      "    comparison dunder methods are added. If unsafe_hash is true, a\n",
      "    __hash__() method is added. If frozen is true, fields may not be\n",
      "    assigned to after instance creation. If match_args is true, the\n",
      "    __match_args__ tuple is added. If kw_only is true, then by default\n",
      "    all fields are keyword-only. If slots is true, a new class with a\n",
      "    __slots__ attribute is returned.\n",
      "\n"
     ]
    }
   ],
   "source": [
    "help(dataclass)"
   ]
  },
  {
   "cell_type": "code",
   "execution_count": 40,
   "id": "e7d4e591",
   "metadata": {},
   "outputs": [
    {
     "name": "stdout",
     "output_type": "stream",
     "text": [
      "Case(name='test_name', given=2, expected=1, s=10)\n"
     ]
    }
   ],
   "source": [
    "from dataclasses import dataclass, field\n",
    "\n",
    "\n",
    "@dataclass(init=True, repr=True, eq=True, order=True, unsafe_hash=True, frozen=True)\n",
    "class Case:\n",
    "    name: str\n",
    "    given: int\n",
    "    expected: object\n",
    "    s: int = field(default=10)\n",
    "\n",
    "\n",
    "c = Case(\"test_name\", 2, 1)\n",
    "print(c)"
   ]
  },
  {
   "cell_type": "markdown",
   "id": "d4f9a6eb",
   "metadata": {},
   "source": [
    "Например, из-за флага frozen нельзя изменять инстанс датакласса:"
   ]
  },
  {
   "cell_type": "code",
   "execution_count": 41,
   "id": "c055d5b2",
   "metadata": {},
   "outputs": [
    {
     "ename": "FrozenInstanceError",
     "evalue": "cannot assign to field 'given'",
     "output_type": "error",
     "traceback": [
      "\u001b[31m---------------------------------------------------------------------------\u001b[39m",
      "\u001b[31mFrozenInstanceError\u001b[39m                       Traceback (most recent call last)",
      "\u001b[36mCell\u001b[39m\u001b[36m \u001b[39m\u001b[32mIn[41]\u001b[39m\u001b[32m, line 1\u001b[39m\n\u001b[32m----> \u001b[39m\u001b[32m1\u001b[39m \u001b[43mc\u001b[49m\u001b[43m.\u001b[49m\u001b[43mgiven\u001b[49m = \u001b[32m3\u001b[39m\n",
      "\u001b[36mFile \u001b[39m\u001b[32m<string>:34\u001b[39m, in \u001b[36m__setattr__\u001b[39m\u001b[34m(self, name, value)\u001b[39m\n",
      "\u001b[31mFrozenInstanceError\u001b[39m: cannot assign to field 'given'"
     ]
    }
   ],
   "source": [
    "c.given = 3"
   ]
  },
  {
   "cell_type": "markdown",
   "id": "4a680168",
   "metadata": {},
   "source": [
    "## Enum"
   ]
  },
  {
   "cell_type": "markdown",
   "id": "af6a134c",
   "metadata": {},
   "source": [
    "Еще один очень полезный тип классов - перечисление (от слова enumerate). Данный тип используется когда мы хотим завести тип с несколькими фиксированными значениями, например, тип операционной системы:"
   ]
  },
  {
   "cell_type": "code",
   "execution_count": null,
   "id": "b98cb4eb",
   "metadata": {},
   "outputs": [],
   "source": []
  }
 ],
 "metadata": {
  "kernelspec": {
   "display_name": ".venv",
   "language": "python",
   "name": "python3"
  },
  "language_info": {
   "codemirror_mode": {
    "name": "ipython",
    "version": 3
   },
   "file_extension": ".py",
   "mimetype": "text/x-python",
   "name": "python",
   "nbconvert_exporter": "python",
   "pygments_lexer": "ipython3",
   "version": "3.13.3"
  }
 },
 "nbformat": 4,
 "nbformat_minor": 5
}
